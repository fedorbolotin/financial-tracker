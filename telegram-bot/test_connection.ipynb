{
 "cells": [
  {
   "cell_type": "code",
   "execution_count": 2,
   "metadata": {},
   "outputs": [],
   "source": [
    "import psycopg2 as pg\n",
    "import pandas as pd\n",
    "import json\n",
    "\n",
    "from sqlalchemy import create_engine, URL\n",
    "from os.path import expanduser"
   ]
  },
  {
   "cell_type": "code",
   "execution_count": 4,
   "metadata": {},
   "outputs": [],
   "source": [
    "cred_path = expanduser('~/Documents/Projects/financial-tracker/telegram-bot/credentials.json')\n",
    "with open(cred_path) as f:\n",
    "    cred = json.load(f)\n",
    "\n",
    "url_object = URL.create(\n",
    "    'postgresql+psycopg2'\n",
    "    , username = cred['pg_user']\n",
    "    , password = ''\n",
    "    , host = cred['pg_host']\n",
    "    , database = cred['pg_database']\n",
    ")\n",
    "\n",
    "engine = create_engine(url_object)"
   ]
  },
  {
   "cell_type": "code",
   "execution_count": 7,
   "metadata": {},
   "outputs": [
    {
     "data": {
      "text/plain": [
       "0"
      ]
     },
     "execution_count": 7,
     "metadata": {},
     "output_type": "execute_result"
    }
   ],
   "source": [
    "query = 'select * from public.users'\n",
    "\n",
    "df = pd.read_sql_query(query, engine.connect())\n",
    "\n",
    "df.shape[0]"
   ]
  }
 ],
 "metadata": {
  "kernelspec": {
   "display_name": "Python 3",
   "language": "python",
   "name": "python3"
  },
  "language_info": {
   "codemirror_mode": {
    "name": "ipython",
    "version": 3
   },
   "file_extension": ".py",
   "mimetype": "text/x-python",
   "name": "python",
   "nbconvert_exporter": "python",
   "pygments_lexer": "ipython3",
   "version": "3.9.6"
  },
  "orig_nbformat": 4
 },
 "nbformat": 4,
 "nbformat_minor": 2
}
